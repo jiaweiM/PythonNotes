{
 "nbformat": 4,
 "nbformat_minor": 2,
 "metadata": {
  "language_info": {
   "name": "python",
   "codemirror_mode": {
    "name": "ipython",
    "version": 3
   }
  },
  "orig_nbformat": 2,
  "file_extension": ".py",
  "mimetype": "text/x-python",
  "name": "python",
  "npconvert_exporter": "python",
  "pygments_lexer": "ipython3",
  "version": 3
 },
 "cells": [
  {
   "cell_type": "markdown",
   "metadata": {},
   "source": [
    "# 10 minutes to pandas\n",
    "\n",
    "首先导入 pandas"
   ]
  },
  {
   "cell_type": "code",
   "execution_count": null,
   "metadata": {},
   "outputs": [
    {
     "ename": "Error",
     "evalue": "Jupyter cannot be started. Error attempting to locate jupyter: ",
     "output_type": "error",
     "traceback": [
      "Error: Jupyter cannot be started. Error attempting to locate jupyter:",
      "at A.startServer (c:\\Users\\Chen\\.vscode\\extensions\\ms-python.python-2020.2.64397\\out\\client\\extension.js:1:786120)",
      "at async A.ensureServerAndNotebookImpl (c:\\Users\\Chen\\.vscode\\extensions\\ms-python.python-2020.2.64397\\out\\client\\extension.js:1:785575)",
      "at async A.ensureServerAndNotebook (c:\\Users\\Chen\\.vscode\\extensions\\ms-python.python-2020.2.64397\\out\\client\\extension.js:1:785376)",
      "at async A.submitCode (c:\\Users\\Chen\\.vscode\\extensions\\ms-python.python-2020.2.64397\\out\\client\\extension.js:1:782328)",
      "at async A.reexecuteCell (c:\\Users\\Chen\\.vscode\\extensions\\ms-python.python-2020.2.64397\\out\\client\\extension.js:75:879318)"
     ]
    }
   ],
   "source": [
    "import numpy as np\n",
    "import pandas as pd"
   ]
  },
  {
   "cell_type": "code",
   "execution_count": null,
   "metadata": {},
   "outputs": [],
   "source": []
  }
 ]
}