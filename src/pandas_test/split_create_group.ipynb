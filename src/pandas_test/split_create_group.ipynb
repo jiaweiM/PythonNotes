{
 "nbformat": 4,
 "nbformat_minor": 2,
 "metadata": {
  "language_info": {
   "name": "python",
   "codemirror_mode": {
    "name": "ipython",
    "version": 3
   },
   "version": "3.8.2-final"
  },
  "orig_nbformat": 2,
  "file_extension": ".py",
  "mimetype": "text/x-python",
  "name": "python",
  "npconvert_exporter": "python",
  "pygments_lexer": "ipython3",
  "version": 3,
  "kernelspec": {
   "name": "python38264bit0f641144279241bcbc877e9a2d0f7946",
   "display_name": "Python 3.8.2 64-bit"
  }
 },
 "cells": [
  {
   "cell_type": "code",
   "execution_count": 2,
   "metadata": {},
   "outputs": [],
   "source": [
    "import pandas as pd\n",
    "import numpy as np"
   ]
  },
  {
   "cell_type": "code",
   "execution_count": 3,
   "metadata": {},
   "outputs": [],
   "source": [
    "df = pd.DataFrame([('bird', 'Falconiformes', 389.0),\n",
    "                ('bird', 'Psittaciformes', 24.0),\n",
    "                ('mammal', 'Carnivora', 80.2),\n",
    "                ('mammal', 'Primates', np.nan),\n",
    "                ('mammal', 'Carnivora', 58)],\n",
    "            index=['falcon', 'parrot', 'lion', 'monkey', 'leopard'],\n",
    "            columns=('class', 'order', 'max_speed'))"
   ]
  },
  {
   "cell_type": "code",
   "execution_count": 4,
   "metadata": {},
   "outputs": [
    {
     "output_type": "execute_result",
     "data": {
      "text/plain": "          class           order  max_speed\nfalcon     bird   Falconiformes      389.0\nparrot     bird  Psittaciformes       24.0\nlion     mammal       Carnivora       80.2\nmonkey   mammal        Primates        NaN\nleopard  mammal       Carnivora       58.0",
      "text/html": "<div>\n<style scoped>\n    .dataframe tbody tr th:only-of-type {\n        vertical-align: middle;\n    }\n\n    .dataframe tbody tr th {\n        vertical-align: top;\n    }\n\n    .dataframe thead th {\n        text-align: right;\n    }\n</style>\n<table border=\"1\" class=\"dataframe\">\n  <thead>\n    <tr style=\"text-align: right;\">\n      <th></th>\n      <th>class</th>\n      <th>order</th>\n      <th>max_speed</th>\n    </tr>\n  </thead>\n  <tbody>\n    <tr>\n      <th>falcon</th>\n      <td>bird</td>\n      <td>Falconiformes</td>\n      <td>389.0</td>\n    </tr>\n    <tr>\n      <th>parrot</th>\n      <td>bird</td>\n      <td>Psittaciformes</td>\n      <td>24.0</td>\n    </tr>\n    <tr>\n      <th>lion</th>\n      <td>mammal</td>\n      <td>Carnivora</td>\n      <td>80.2</td>\n    </tr>\n    <tr>\n      <th>monkey</th>\n      <td>mammal</td>\n      <td>Primates</td>\n      <td>NaN</td>\n    </tr>\n    <tr>\n      <th>leopard</th>\n      <td>mammal</td>\n      <td>Carnivora</td>\n      <td>58.0</td>\n    </tr>\n  </tbody>\n</table>\n</div>"
     },
     "metadata": {},
     "execution_count": 4
    }
   ],
   "source": [
    "df"
   ]
  },
  {
   "cell_type": "code",
   "execution_count": 5,
   "metadata": {},
   "outputs": [],
   "source": [
    "grouped = df.groupby('class')"
   ]
  },
  {
   "cell_type": "code",
   "execution_count": 6,
   "metadata": {},
   "outputs": [
    {
     "output_type": "execute_result",
     "data": {
      "text/plain": "<pandas.core.groupby.generic.DataFrameGroupBy object at 0x000001FEBA1DB130>"
     },
     "metadata": {},
     "execution_count": 6
    }
   ],
   "source": [
    "grouped"
   ]
  },
  {
   "cell_type": "code",
   "execution_count": null,
   "metadata": {},
   "outputs": [],
   "source": []
  }
 ]
}