{
 "metadata": {
  "language_info": {
   "codemirror_mode": {
    "name": "ipython",
    "version": 3
   },
   "file_extension": ".py",
   "mimetype": "text/x-python",
   "name": "python",
   "nbconvert_exporter": "python",
   "pygments_lexer": "ipython3",
   "version": "3.8.8"
  },
  "orig_nbformat": 2,
  "kernelspec": {
   "name": "python388jvsc74a57bd0e404b59586357c814bc0d3940e75d6763c00a48753b225b81f7716971b8e1741",
   "display_name": "Python 3.8.8 64-bit"
  },
  "metadata": {
   "interpreter": {
    "hash": "e404b59586357c814bc0d3940e75d6763c00a48753b225b81f7716971b8e1741"
   }
  }
 },
 "nbformat": 4,
 "nbformat_minor": 2,
 "cells": [
  {
   "cell_type": "code",
   "execution_count": 1,
   "metadata": {},
   "outputs": [],
   "source": [
    "from sklearn.datasets import fetch_california_housing\n",
    "from sklearn.model_selection import train_test_split\n",
    "from sklearn.preprocessing import StandardScaler"
   ]
  },
  {
   "cell_type": "code",
   "execution_count": 2,
   "metadata": {},
   "outputs": [],
   "source": [
    "housing = fetch_california_housing()\n",
    "\n",
    "x_train_full, x_test, y_train_full, y_test = train_test_split(housing.data, housing.target)\n",
    "x_train, x_valid, y_train, y_valid = train_test_split(x_train_full, y_train_full)"
   ]
  },
  {
   "cell_type": "code",
   "execution_count": 3,
   "metadata": {},
   "outputs": [],
   "source": [
    "scaler = StandardScaler()\n",
    "x_train = scaler.fit_transform(x_train)\n",
    "x_valid = scaler.transform(x_valid)\n",
    "x_test = scaler.transform(x_test)"
   ]
  },
  {
   "cell_type": "code",
   "execution_count": 4,
   "metadata": {},
   "outputs": [
    {
     "output_type": "stream",
     "name": "stdout",
     "text": [
      "Epoch 1/20\n",
      "363/363 [==============================] - 1s 3ms/step - loss: 1.2402 - val_loss: 0.5273\n",
      "Epoch 2/20\n",
      "363/363 [==============================] - 0s 596us/step - loss: 1.4814 - val_loss: 0.5129\n",
      "Epoch 3/20\n",
      "363/363 [==============================] - 0s 608us/step - loss: 0.4748 - val_loss: 0.4416\n",
      "Epoch 4/20\n",
      "363/363 [==============================] - 0s 591us/step - loss: 0.4375 - val_loss: 0.4266\n",
      "Epoch 5/20\n",
      "363/363 [==============================] - 0s 597us/step - loss: 0.4330 - val_loss: 0.4200\n",
      "Epoch 6/20\n",
      "363/363 [==============================] - 0s 591us/step - loss: 0.4114 - val_loss: 0.4079\n",
      "Epoch 7/20\n",
      "363/363 [==============================] - 0s 593us/step - loss: 0.4025 - val_loss: 0.4058\n",
      "Epoch 8/20\n",
      "363/363 [==============================] - 0s 584us/step - loss: 0.4025 - val_loss: 0.3975\n",
      "Epoch 9/20\n",
      "363/363 [==============================] - 0s 588us/step - loss: 0.3908 - val_loss: 0.3978\n",
      "Epoch 10/20\n",
      "363/363 [==============================] - 0s 593us/step - loss: 0.4060 - val_loss: 0.3930\n",
      "Epoch 11/20\n",
      "363/363 [==============================] - 0s 608us/step - loss: 0.3848 - val_loss: 0.3948\n",
      "Epoch 12/20\n",
      "363/363 [==============================] - 0s 633us/step - loss: 0.3849 - val_loss: 0.3906\n",
      "Epoch 13/20\n",
      "363/363 [==============================] - 0s 638us/step - loss: 0.3826 - val_loss: 0.3865\n",
      "Epoch 14/20\n",
      "363/363 [==============================] - 0s 577us/step - loss: 0.3866 - val_loss: 0.3862\n",
      "Epoch 15/20\n",
      "363/363 [==============================] - 0s 588us/step - loss: 0.3738 - val_loss: 0.3893\n",
      "Epoch 16/20\n",
      "363/363 [==============================] - 0s 602us/step - loss: 0.3827 - val_loss: 0.3832\n",
      "Epoch 17/20\n",
      "363/363 [==============================] - 0s 594us/step - loss: 0.3791 - val_loss: 0.3792\n",
      "Epoch 18/20\n",
      "363/363 [==============================] - 0s 610us/step - loss: 0.3867 - val_loss: 0.3845\n",
      "Epoch 19/20\n",
      "363/363 [==============================] - 0s 605us/step - loss: 0.3755 - val_loss: 0.3785\n",
      "Epoch 20/20\n",
      "363/363 [==============================] - 0s 622us/step - loss: 0.3767 - val_loss: 0.3716\n"
     ]
    }
   ],
   "source": [
    "import tensorflow.keras as keras\n",
    "\n",
    "model = keras.models.Sequential([\n",
    "    keras.layers.Dense(30, activation='relu', input_shape=x_train.shape[1:]),\n",
    "    keras.layers.Dense(1)\n",
    "])\n",
    "model.compile(loss='mean_squared_error', optimizer='sgd')\n",
    "history = model.fit(x_train, y_train, epochs=20, validation_data=(x_valid, y_valid))"
   ]
  },
  {
   "cell_type": "code",
   "execution_count": 5,
   "metadata": {},
   "outputs": [
    {
     "output_type": "stream",
     "name": "stdout",
     "text": [
      "162/162 [==============================] - 0s 503us/step - loss: 0.3748\n"
     ]
    }
   ],
   "source": [
    "mse_test = model.evaluate(x_test, y_test)"
   ]
  },
  {
   "cell_type": "code",
   "execution_count": 6,
   "metadata": {},
   "outputs": [],
   "source": [
    "x_new = x_test[:3]\n",
    "y_pred = model.predict(x_new)"
   ]
  },
  {
   "cell_type": "code",
   "execution_count": null,
   "metadata": {},
   "outputs": [],
   "source": []
  }
 ]
}